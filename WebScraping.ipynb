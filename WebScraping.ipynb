{
 "cells": [
  {
   "cell_type": "markdown",
   "id": "71a0efd3-28bd-4c06-bb08-a681ae9321a6",
   "metadata": {},
   "source": [
    "# Projeto de Analise de Dados de Commodities"
   ]
  },
  {
   "cell_type": "markdown",
   "id": "2a86f18e-96aa-4f45-9ba6-a4359e154d39",
   "metadata": {},
   "source": [
    "## WebScraping dos preços das commodities [Investing.com](https://br.investing.com/commodities/real-time-futures)"
   ]
  },
  {
   "cell_type": "code",
   "execution_count": 1,
   "id": "b8c0a2d6-a07d-4744-970f-6307ef8af1bc",
   "metadata": {},
   "outputs": [],
   "source": [
    "from bs4 import BeautifulSoup as bs\n",
    "import lxml\n",
    "import requests\n",
    "import pandas as pd"
   ]
  },
  {
   "cell_type": "markdown",
   "id": "a4128a7d-41c6-4557-8c1a-1472e4fea4f6",
   "metadata": {},
   "source": [
    "### Passando parâmetros do site"
   ]
  },
  {
   "cell_type": "code",
   "execution_count": 2,
   "id": "f62c9325-194a-4f75-bc80-c3c17f0e6476",
   "metadata": {},
   "outputs": [],
   "source": [
    "HEADERS = {\"accept\":\"*/*\",\"user-agent\": \"Mozilla/5.0 (Windows NT 10.0; Win64; x64) AppleWebKit/537.36 (KHTML, like Gecko) Chrome/130.0.0.0 Safari/537.36\"}\n",
    "URL = \"https://br.investing.com/commodities/real-time-futures\""
   ]
  },
  {
   "cell_type": "markdown",
   "id": "fdf3e5ca-8bad-4dae-83e1-1071f7bed10e",
   "metadata": {},
   "source": [
    "### \"Conectando\" (Fazendo o request http) ao site"
   ]
  },
  {
   "cell_type": "code",
   "execution_count": 3,
   "id": "c173fcb1-ba46-43d2-b6b3-46ec1698b6fc",
   "metadata": {},
   "outputs": [],
   "source": [
    "session = requests.Session()\n",
    "request = session.get(URL,headers=HEADERS)"
   ]
  },
  {
   "cell_type": "markdown",
   "id": "5baef367-0a7a-4a89-b442-f1171e1bee15",
   "metadata": {},
   "source": [
    "## Acessando os dados"
   ]
  },
  {
   "cell_type": "code",
   "execution_count": 4,
   "id": "7089037a-d0f3-4fef-a586-b786cf4cdc43",
   "metadata": {},
   "outputs": [],
   "source": [
    "## Acessa o html\n",
    "soup = bs(request.content,'html.parser')\n",
    "## Acessa a tabela de commodities (Preço)\n",
    "tag_section = soup.find('table',{'class':'datatable-v2_table__93S4Y'})\n",
    "## Acessa todas as linhas da tabela\n",
    "items_table = tag_section.find_all('tr',{'class':'datatable-v2_row__hkEus'})"
   ]
  },
  {
   "cell_type": "code",
   "execution_count": 5,
   "id": "14511f96-6ee9-446c-aaf0-76d479b2c72d",
   "metadata": {},
   "outputs": [],
   "source": [
    "commodities_data = []\n",
    "df_preco =[]\n",
    "for linha in items_table:\n",
    "    cells = linha.find_all('td')\n",
    "    if len(cells) > 1:\n",
    "        nome = cells[1].get_text(strip=True)\n",
    "        mes = cells[2].get_text(strip=True)\n",
    "        ultimo_preco = cells[3].get_text(strip=True)\n",
    "        maximo = cells[4].get_text(strip=True)\n",
    "        minimo = cells[5].get_text(strip=True)\n",
    "        variacao = cells[6].get_text(strip=True)\n",
    "        variacao_pct = cells[7].get_text(strip=True)\n",
    "        hora = cells[8].get_text(strip=True)\n",
    "\n",
    "        commodities_data.append({\n",
    "            \"Nome\": nome,\n",
    "            \"Mes\": mes,\n",
    "            \"Ultimo Preco\": ultimo_preco,\n",
    "            \"Maxima\": maximo,\n",
    "            \"Minima\": minimo,\n",
    "            \"Variacao\": variacao,\n",
    "            \"Variacao %\": variacao_pct,\n",
    "            \"Hora Preco\": hora\n",
    "        })"
   ]
  },
  {
   "cell_type": "code",
   "execution_count": 6,
   "id": "a83452e9-14f8-49e6-b74f-b68ed34a99f8",
   "metadata": {},
   "outputs": [],
   "source": [
    "df_preco = pd.DataFrame(commodities_data)"
   ]
  },
  {
   "cell_type": "markdown",
   "id": "3f0a4b1f-fbd5-4e17-a0d8-634859c100ca",
   "metadata": {},
   "source": [
    "## Acessando as opções de tabela"
   ]
  },
  {
   "cell_type": "code",
   "execution_count": 7,
   "id": "1b762b16-5711-4317-a751-c6ea5fe51dfd",
   "metadata": {
    "scrolled": true
   },
   "outputs": [
    {
     "name": "stdout",
     "output_type": "stream",
     "text": [
      "['Desempenho', 'Técnica', 'Especificação']\n"
     ]
    }
   ],
   "source": [
    "# Localizar os botoes dentro do tablist\n",
    "botoes_section = soup.find('div', {'class':'bg-white table-browser_table-browser-tabs__q5jip flex overflow-y-scroll mdMax:overflow-x-auto'})\n",
    "# Acessar o codigo html dos botoes nao acessados e salva-los em uma lista\n",
    "botoes = botoes_section.find_all('button', {'aria-selected':'false'})\n",
    "lista_botoes = []\n",
    "for botao in botoes:\n",
    "    lista_botoes.append(botao.get_text(strip=True))\n",
    "print(lista_botoes)"
   ]
  },
  {
   "cell_type": "markdown",
   "id": "1a105946-1705-460c-8488-8ca1e2b79ef9",
   "metadata": {},
   "source": [
    "## Usando Selenium para mudar de guia e atualizar o html"
   ]
  },
  {
   "cell_type": "code",
   "execution_count": 8,
   "id": "9a6c3116-bf01-4418-a95e-6def754cfeca",
   "metadata": {},
   "outputs": [],
   "source": [
    "from selenium import webdriver\n",
    "from selenium.webdriver.chrome.service import Service\n",
    "from selenium.webdriver.chrome.options import Options\n",
    "from selenium.webdriver.common.by import By\n",
    "from selenium.webdriver.common.action_chains import ActionChains\n",
    "from selenium.webdriver.support.ui import WebDriverWait\n",
    "from selenium.webdriver.support import expected_conditions as EC\n",
    "\n",
    "###Caminho para o chrome de testes\n",
    "chrome_options = Options()\n",
    "\n",
    "### Caminho do chrome driver\n",
    "service = Service(\"./chromedriver.exe\")\n",
    "chrome_options.add_argument(\"user-data-dir=C:/Users/IgorPio/AppData/Local/Google/Chrome/User Data\")\n",
    "\n",
    "# Configura o driver do Chrome\n",
    "driver = webdriver.Chrome(service=service, options=chrome_options)\n",
    "# Acessando o site\n",
    "driver.get(\"https://br.investing.com/commodities/real-time-futures\")\n"
   ]
  },
  {
   "cell_type": "markdown",
   "id": "8336bb9f-316e-4436-9d2d-4efdda101633",
   "metadata": {},
   "source": [
    "## Automatizando a criação de tabelas"
   ]
  },
  {
   "cell_type": "code",
   "execution_count": 9,
   "id": "87c20adb-eb6a-4721-b488-d505ff1b2164",
   "metadata": {},
   "outputs": [
    {
     "name": "stdout",
     "output_type": "stream",
     "text": [
      "Botão 'Desempenho' foi clicado.\n",
      "Data Desempenho coletada\n",
      "Botão 'Técnica' foi clicado.\n",
      "Data Tecnica coletada\n",
      "Botão 'Especificação' foi clicado.\n",
      "Data Especificacao coletada\n"
     ]
    }
   ],
   "source": [
    "df_desempenho = []\n",
    "df_tecnica = []\n",
    "df_especificacao = []\n",
    "for i in range(0,len(lista_botoes)):\n",
    "    ### Clicar no botão\n",
    "    texto = lista_botoes[i]\n",
    "    ### Usa o WebDriverWait para aguardar que o botão fique visível e então clica\n",
    "    #botao = WebDriverWait(driver, 1).until(EC.element_to_be_clickable((By.XPATH, f\"//button[@data-test='quote-tab' and contains(text(), '{texto}')]\")))\n",
    "    botao = driver.find_element(By.XPATH, f\"//button[@data-test='quote-tab' and contains(text(), '{texto}')]\")\n",
    "    botao.click()\n",
    "    print(f\"Botão '{texto}' foi clicado.\")\n",
    "    ## Esperar um pouco para continuar, para dar tempo de atualizar\n",
    "    import time\n",
    "    time.sleep(3)\n",
    "\n",
    "    ## Acessa o novo html\n",
    "    novo_html = driver.page_source\n",
    "    ## Passando para o soup\n",
    "    soup = bs(novo_html,'html.parser')\n",
    "    ## Acessa a tabela de commodities (Desempenho)\n",
    "    tag_section2 = soup.find('table',{'class':'datatable-v2_table__93S4Y'})\n",
    "    \n",
    "    ## Acessa todas as linhas da tabela\n",
    "    items_table = tag_section2.find_all('tr',{'class':'datatable-v2_row__hkEus dynamic-table-v2_row__ILVMx'})\n",
    "    if i == 0: # Desempenho\n",
    "        commodities_data = []\n",
    "        for linha in items_table:\n",
    "            cells = linha.find_all('td', {'class':'datatable-v2_cell__IwP1U'})\n",
    "            if len(cells) > 1:\n",
    "                nome = cells[1].get_text(strip=True)\n",
    "                diario = cells[2].get_text(strip=True)\n",
    "                semana1 = cells[3].get_text(strip=True)\n",
    "                mes1 = cells[4].get_text(strip=True)\n",
    "                ytd = cells[5].get_text(strip=True)\n",
    "                ano1 = cells[6].get_text(strip=True)\n",
    "                ano3 = cells[7].get_text(strip=True)\n",
    "        \n",
    "                commodities_data.append({\n",
    "                    \"Nome\": nome,\n",
    "                    \"Desempenho Diario\": diario,\n",
    "                    \"Semana 1\": semana1,\n",
    "                    \"Mes 1\": mes1,\n",
    "                    \"YTD\": ytd,\n",
    "                    \"Ano 1\": ano1,\n",
    "                    \"Anos 3\": ano3\n",
    "                })\n",
    "        df_desempenho = pd.DataFrame(commodities_data)\n",
    "        print(\"Data Desempenho coletada\")\n",
    "        \n",
    "    elif i == 1: # Tecnica\n",
    "        commodities_data = []\n",
    "        for linha in items_table:\n",
    "            cells = linha.find_all('td', {'class':'datatable-v2_cell__IwP1U'})\n",
    "            if len(cells) > 1:\n",
    "                nome = cells[1].get_text(strip=True)\n",
    "                hora = cells[2].get_text(strip=True)\n",
    "                diario = cells[3].get_text(strip=True)\n",
    "                semanal = cells[4].get_text(strip=True)\n",
    "                mensal = cells[5].get_text(strip=True)\n",
    "        \n",
    "                commodities_data.append({\n",
    "                    \"Nome\": nome,\n",
    "                    \"Hora\": hora,\n",
    "                    \"Tecnica Diaria\": diario,\n",
    "                    \"Semanal\": semanal,\n",
    "                    \"Mensal\": mensal,\n",
    "                })\n",
    "        df_tecnica = pd.DataFrame(commodities_data)\n",
    "        print(\"Data Tecnica coletada\")\n",
    "    elif i == 2: # Especificacao\n",
    "        commodities_data = []\n",
    "        for linha in items_table:\n",
    "            cells = linha.find_all('td', {'class':'datatable-v2_cell__IwP1U'})\n",
    "            if len(cells) > 1:\n",
    "                nome = cells[1].get_text(strip=True)\n",
    "                codigo = cells[2].get_text(strip=True)\n",
    "                bolsa = cells[3].get_text(strip=True)\n",
    "                contrato = cells[4].get_text(strip=True)\n",
    "                meses = cells[5].get_text(strip=True)\n",
    "                ponto_base = cells[6].get_text(strip=True)\n",
    "        \n",
    "                commodities_data.append({\n",
    "                    \"Nome\": nome,\n",
    "                    \"Codigo\": codigo,\n",
    "                    \"Bolsa\": bolsa,\n",
    "                    \"Contrato\": contrato,\n",
    "                    \"Meses\": meses,\n",
    "                    \"PontoBase\":ponto_base\n",
    "                })\n",
    "        df_especificacao = pd.DataFrame(commodities_data)\n",
    "        print(\"Data Especificacao coletada\")\n",
    "driver.quit()"
   ]
  },
  {
   "cell_type": "markdown",
   "id": "edb51cbd-5d82-4e58-a916-3a2bf787e7d0",
   "metadata": {},
   "source": [
    "## Mesclar os dataframes com base na coluna nome"
   ]
  },
  {
   "cell_type": "code",
   "execution_count": 10,
   "id": "e18900ef-a1d1-4aa9-b503-ceff575833c0",
   "metadata": {},
   "outputs": [],
   "source": [
    "df_preco_desempenho = df_preco.merge(df_desempenho, on=\"Nome\", how=\"outer\")\n",
    "df_pd_tecnica = df_preco_desempenho.merge(df_tecnica, on=\"Nome\", how=\"outer\")\n",
    "df_final = df_pd_tecnica.merge(df_especificacao, on=\"Nome\", how=\"outer\")\n",
    "\n",
    "## Limpeza do nome\n",
    "df_final[\"Nome\"] = df_final[\"Nome\"].str.replace(\"derived\",\"\",regex=False)"
   ]
  },
  {
   "cell_type": "code",
   "execution_count": 11,
   "id": "33923800-b616-4554-8f2b-6d1166a28430",
   "metadata": {},
   "outputs": [],
   "source": [
    "# Adiciona o index\n",
    "df_final.reset_index(inplace=True)\n",
    "df_final.index +=1\n",
    "df_final.rename(columns={\"index\":\"ID\"}, inplace=True)\n"
   ]
  },
  {
   "cell_type": "markdown",
   "id": "c1770f07-1ea1-412e-bc52-5c7c7e55508f",
   "metadata": {},
   "source": [
    "## Transforma em tabela excel"
   ]
  },
  {
   "cell_type": "markdown",
   "id": "7c907929-ddc8-44b0-bd9f-aebc2581ad8c",
   "metadata": {},
   "source": [
    "### Transformando as tabelas para poder trabalhar com números"
   ]
  },
  {
   "cell_type": "code",
   "execution_count": 12,
   "id": "a9ffc10e-afee-41c1-a272-16d3b6f4f416",
   "metadata": {},
   "outputs": [
    {
     "name": "stdout",
     "output_type": "stream",
     "text": [
      "Dados extraidos e combinados, salvos em 'DataCommodities.xlsx'\n"
     ]
    }
   ],
   "source": [
    "df_final.to_excel(\"DataCommodities.xlsx\",index=False)\n",
    "print(\"Dados extraidos e combinados, salvos em 'DataCommodities.xlsx'\")"
   ]
  },
  {
   "cell_type": "markdown",
   "id": "919e19e2-dbf1-45a0-b190-2c46b48a7a5e",
   "metadata": {},
   "source": [
    "## Inicializa o arquivo Power Bi"
   ]
  },
  {
   "cell_type": "code",
   "execution_count": 13,
   "id": "b002ba94-175e-42b5-b888-b6fe024cfbba",
   "metadata": {},
   "outputs": [
    {
     "data": {
      "text/plain": [
       "<Popen: returncode: None args: ['start', './AnaliseCommodities.pbix']>"
      ]
     },
     "execution_count": 13,
     "metadata": {},
     "output_type": "execute_result"
    }
   ],
   "source": [
    "import subprocess\n",
    "path_power_bi = \"./AnaliseCommodities.pbix\"\n",
    "subprocess.Popen(['start',path_power_bi], shell=True)"
   ]
  }
 ],
 "metadata": {
  "kernelspec": {
   "display_name": "Python 3 (ipykernel)",
   "language": "python",
   "name": "python3"
  },
  "language_info": {
   "codemirror_mode": {
    "name": "ipython",
    "version": 3
   },
   "file_extension": ".py",
   "mimetype": "text/x-python",
   "name": "python",
   "nbconvert_exporter": "python",
   "pygments_lexer": "ipython3",
   "version": "3.12.6"
  }
 },
 "nbformat": 4,
 "nbformat_minor": 5
}
