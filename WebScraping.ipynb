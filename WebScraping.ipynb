{
 "cells": [
  {
   "cell_type": "markdown",
   "id": "71a0efd3-28bd-4c06-bb08-a681ae9321a6",
   "metadata": {},
   "source": [
    "# Projeto de Analise de Dados de Commodities"
   ]
  },
  {
   "cell_type": "markdown",
   "id": "2a86f18e-96aa-4f45-9ba6-a4359e154d39",
   "metadata": {},
   "source": [
    "## WebScraping dos preços das commodities [Investing.com](https://br.investing.com/commodities/real-time-futures)"
   ]
  },
  {
   "cell_type": "code",
   "execution_count": 7,
   "id": "b34c50a8-41a7-47e3-a699-60304aa9f8ca",
   "metadata": {},
   "outputs": [
    {
     "name": "stdout",
     "output_type": "stream",
     "text": [
      "Collecting selenium\n",
      "  Using cached selenium-4.28.0-py3-none-any.whl.metadata (7.1 kB)\n",
      "Requirement already satisfied: urllib3<3,>=1.26 in c:\\users\\igorpio\\desktop\\projetos\\webscrapinganalisededados\\kernel_webscrapping\\lib\\site-packages (from urllib3[socks]<3,>=1.26->selenium) (2.3.0)\n",
      "Collecting trio~=0.17 (from selenium)\n",
      "  Using cached trio-0.28.0-py3-none-any.whl.metadata (8.5 kB)\n",
      "Collecting trio-websocket~=0.9 (from selenium)\n",
      "  Using cached trio_websocket-0.11.1-py3-none-any.whl.metadata (4.7 kB)\n",
      "Requirement already satisfied: certifi>=2021.10.8 in c:\\users\\igorpio\\desktop\\projetos\\webscrapinganalisededados\\kernel_webscrapping\\lib\\site-packages (from selenium) (2024.12.14)\n",
      "Collecting typing_extensions~=4.9 (from selenium)\n",
      "  Using cached typing_extensions-4.12.2-py3-none-any.whl.metadata (3.0 kB)\n",
      "Collecting websocket-client~=1.8 (from selenium)\n",
      "  Using cached websocket_client-1.8.0-py3-none-any.whl.metadata (8.0 kB)\n",
      "Collecting attrs>=23.2.0 (from trio~=0.17->selenium)\n",
      "  Using cached attrs-24.3.0-py3-none-any.whl.metadata (11 kB)\n",
      "Collecting sortedcontainers (from trio~=0.17->selenium)\n",
      "  Using cached sortedcontainers-2.4.0-py2.py3-none-any.whl.metadata (10 kB)\n",
      "Requirement already satisfied: idna in c:\\users\\igorpio\\desktop\\projetos\\webscrapinganalisededados\\kernel_webscrapping\\lib\\site-packages (from trio~=0.17->selenium) (3.10)\n",
      "Collecting outcome (from trio~=0.17->selenium)\n",
      "  Using cached outcome-1.3.0.post0-py2.py3-none-any.whl.metadata (2.6 kB)\n",
      "Collecting sniffio>=1.3.0 (from trio~=0.17->selenium)\n",
      "  Using cached sniffio-1.3.1-py3-none-any.whl.metadata (3.9 kB)\n",
      "Collecting cffi>=1.14 (from trio~=0.17->selenium)\n",
      "  Using cached cffi-1.17.1-cp313-cp313-win_amd64.whl.metadata (1.6 kB)\n",
      "Collecting wsproto>=0.14 (from trio-websocket~=0.9->selenium)\n",
      "  Using cached wsproto-1.2.0-py3-none-any.whl.metadata (5.6 kB)\n",
      "Collecting pysocks!=1.5.7,<2.0,>=1.5.6 (from urllib3[socks]<3,>=1.26->selenium)\n",
      "  Using cached PySocks-1.7.1-py3-none-any.whl.metadata (13 kB)\n",
      "Collecting pycparser (from cffi>=1.14->trio~=0.17->selenium)\n",
      "  Using cached pycparser-2.22-py3-none-any.whl.metadata (943 bytes)\n",
      "Collecting h11<1,>=0.9.0 (from wsproto>=0.14->trio-websocket~=0.9->selenium)\n",
      "  Using cached h11-0.14.0-py3-none-any.whl.metadata (8.2 kB)\n",
      "Using cached selenium-4.28.0-py3-none-any.whl (9.5 MB)\n",
      "Using cached trio-0.28.0-py3-none-any.whl (486 kB)\n",
      "Using cached trio_websocket-0.11.1-py3-none-any.whl (17 kB)\n",
      "Using cached typing_extensions-4.12.2-py3-none-any.whl (37 kB)\n",
      "Using cached websocket_client-1.8.0-py3-none-any.whl (58 kB)\n",
      "Using cached attrs-24.3.0-py3-none-any.whl (63 kB)\n",
      "Using cached cffi-1.17.1-cp313-cp313-win_amd64.whl (182 kB)\n",
      "Using cached PySocks-1.7.1-py3-none-any.whl (16 kB)\n",
      "Using cached sniffio-1.3.1-py3-none-any.whl (10 kB)\n",
      "Using cached wsproto-1.2.0-py3-none-any.whl (24 kB)\n",
      "Using cached outcome-1.3.0.post0-py2.py3-none-any.whl (10 kB)\n",
      "Using cached sortedcontainers-2.4.0-py2.py3-none-any.whl (29 kB)\n",
      "Using cached h11-0.14.0-py3-none-any.whl (58 kB)\n",
      "Using cached pycparser-2.22-py3-none-any.whl (117 kB)\n",
      "Installing collected packages: sortedcontainers, websocket-client, typing_extensions, sniffio, pysocks, pycparser, h11, attrs, wsproto, outcome, cffi, trio, trio-websocket, selenium\n",
      "Successfully installed attrs-24.3.0 cffi-1.17.1 h11-0.14.0 outcome-1.3.0.post0 pycparser-2.22 pysocks-1.7.1 selenium-4.28.0 sniffio-1.3.1 sortedcontainers-2.4.0 trio-0.28.0 trio-websocket-0.11.1 typing_extensions-4.12.2 websocket-client-1.8.0 wsproto-1.2.0\n"
     ]
    }
   ],
   "source": [
    "!pip install selenium"
   ]
  },
  {
   "cell_type": "code",
   "execution_count": 8,
   "id": "b8c0a2d6-a07d-4744-970f-6307ef8af1bc",
   "metadata": {},
   "outputs": [],
   "source": [
    "from bs4 import BeautifulSoup as bs\n",
    "import lxml\n",
    "import requests\n",
    "import pandas as pd"
   ]
  },
  {
   "cell_type": "markdown",
   "id": "a4128a7d-41c6-4557-8c1a-1472e4fea4f6",
   "metadata": {},
   "source": [
    "### Passando parâmetros do site"
   ]
  },
  {
   "cell_type": "code",
   "execution_count": 9,
   "id": "f62c9325-194a-4f75-bc80-c3c17f0e6476",
   "metadata": {},
   "outputs": [],
   "source": [
    "## Substituir o user agent pelo seu próprio user agent (Basta procurar seu user agent no google)\n",
    "HEADERS = {\"accept\":\"*/*\",\"user-agent\": \"Mozilla/5.0 (Windows NT 10.0; Win64; x64) AppleWebKit/537.36 (KHTML, like Gecko) Chrome/130.0.0.0 Safari/537.36\"}\n",
    "URL = \"https://br.investing.com/commodities/real-time-futures\""
   ]
  },
  {
   "cell_type": "markdown",
   "id": "fdf3e5ca-8bad-4dae-83e1-1071f7bed10e",
   "metadata": {},
   "source": [
    "### \"Conectando\" (Fazendo o request http) ao site"
   ]
  },
  {
   "cell_type": "code",
   "execution_count": 10,
   "id": "c173fcb1-ba46-43d2-b6b3-46ec1698b6fc",
   "metadata": {},
   "outputs": [],
   "source": [
    "session = requests.Session()\n",
    "request = session.get(URL,headers=HEADERS)"
   ]
  },
  {
   "cell_type": "markdown",
   "id": "5baef367-0a7a-4a89-b442-f1171e1bee15",
   "metadata": {},
   "source": [
    "## Acessando os dados"
   ]
  },
  {
   "cell_type": "code",
   "execution_count": 11,
   "id": "7089037a-d0f3-4fef-a586-b786cf4cdc43",
   "metadata": {},
   "outputs": [],
   "source": [
    "## Acessa o html\n",
    "soup = bs(request.content,'html.parser')\n",
    "## Acessa a tabela de commodities (Preço)\n",
    "tag_section = soup.find('table',{'class':'datatable-v2_table__93S4Y'})\n",
    "## Acessa todas as linhas da tabela\n",
    "items_table = tag_section.find_all('tr',{'class':'datatable-v2_row__hkEus'})"
   ]
  },
  {
   "cell_type": "code",
   "execution_count": 12,
   "id": "14511f96-6ee9-446c-aaf0-76d479b2c72d",
   "metadata": {},
   "outputs": [],
   "source": [
    "commodities_data = []\n",
    "df_preco =[]\n",
    "for linha in items_table:\n",
    "    cells = linha.find_all('td')\n",
    "    if len(cells) > 1:\n",
    "        nome = cells[1].get_text(strip=True)\n",
    "        mes = cells[2].get_text(strip=True)\n",
    "        ultimo_preco = cells[3].get_text(strip=True)\n",
    "        maximo = cells[4].get_text(strip=True)\n",
    "        minimo = cells[5].get_text(strip=True)\n",
    "        variacao = cells[6].get_text(strip=True)\n",
    "        variacao_pct = cells[7].get_text(strip=True)\n",
    "        hora = cells[8].get_text(strip=True)\n",
    "\n",
    "        commodities_data.append({\n",
    "            \"Nome\": nome,\n",
    "            \"Mes\": mes,\n",
    "            \"Ultimo Preco\": ultimo_preco,\n",
    "            \"Maxima\": maximo,\n",
    "            \"Minima\": minimo,\n",
    "            \"Variacao\": variacao,\n",
    "            \"Variacao %\": variacao_pct,\n",
    "            \"Hora Preco\": hora\n",
    "        })"
   ]
  },
  {
   "cell_type": "code",
   "execution_count": 13,
   "id": "a83452e9-14f8-49e6-b74f-b68ed34a99f8",
   "metadata": {},
   "outputs": [],
   "source": [
    "df_preco = pd.DataFrame(commodities_data)"
   ]
  },
  {
   "cell_type": "markdown",
   "id": "3f0a4b1f-fbd5-4e17-a0d8-634859c100ca",
   "metadata": {},
   "source": [
    "## Acessando as opções de tabela"
   ]
  },
  {
   "cell_type": "code",
   "execution_count": 14,
   "id": "1b762b16-5711-4317-a751-c6ea5fe51dfd",
   "metadata": {
    "scrolled": true
   },
   "outputs": [
    {
     "name": "stdout",
     "output_type": "stream",
     "text": [
      "['Desempenho', 'Técnica', 'Especificação']\n"
     ]
    }
   ],
   "source": [
    "# Localizar os botoes dentro do tablist\n",
    "botoes_section = soup.find('div', {'class':'bg-white table-browser_table-browser-tabs__q5jip flex overflow-y-scroll mdMax:overflow-x-auto'})\n",
    "# Acessar o codigo html dos botoes nao acessados e salva-los em uma lista\n",
    "botoes = botoes_section.find_all('button', {'aria-selected':'false'})\n",
    "lista_botoes = []\n",
    "for botao in botoes:\n",
    "    lista_botoes.append(botao.get_text(strip=True))\n",
    "print(lista_botoes)"
   ]
  },
  {
   "cell_type": "markdown",
   "id": "1a105946-1705-460c-8488-8ca1e2b79ef9",
   "metadata": {},
   "source": [
    "## Usando Selenium para mudar de guia e atualizar o html"
   ]
  },
  {
   "cell_type": "code",
   "execution_count": 19,
   "id": "9a6c3116-bf01-4418-a95e-6def754cfeca",
   "metadata": {},
   "outputs": [],
   "source": [
    "from selenium import webdriver\n",
    "from selenium.webdriver.chrome.service import Service\n",
    "from selenium.webdriver.chrome.options import Options\n",
    "from selenium.webdriver.common.by import By\n",
    "from selenium.webdriver.common.action_chains import ActionChains\n",
    "from selenium.webdriver.support.ui import WebDriverWait\n",
    "from selenium.webdriver.support import expected_conditions as EC\n",
    "\n",
    "###Caminho para o chrome de testes\n",
    "chrome_options = Options()\n",
    "\n",
    "### Caminho do chrome driver\n",
    "service = Service(\"./chromedriver.exe\")\n",
    "###Trcoar para seu local de armazenamento do chrome\n",
    "user_data_patch = 'C:/Users/IgorPio/AppData/Local/Google/Chrome/User Data'\n",
    "chrome_options.add_argument(f\"user-data-dir={user_data_patch}\")\n",
    "\n",
    "# Configura o driver do Chrome\n",
    "driver = webdriver.Chrome(service=service, options=chrome_options)\n",
    "# Acessando o site\n",
    "driver.get(\"https://br.investing.com/commodities/real-time-futures\")\n"
   ]
  },
  {
   "cell_type": "markdown",
   "id": "8336bb9f-316e-4436-9d2d-4efdda101633",
   "metadata": {},
   "source": [
    "## Automatizando a criação de tabelas"
   ]
  },
  {
   "cell_type": "code",
   "execution_count": 20,
   "id": "87c20adb-eb6a-4721-b488-d505ff1b2164",
   "metadata": {},
   "outputs": [
    {
     "name": "stdout",
     "output_type": "stream",
     "text": [
      "Botão 'Desempenho' foi clicado.\n",
      "Data Desempenho coletada\n",
      "Botão 'Técnica' foi clicado.\n",
      "Data Tecnica coletada\n",
      "Botão 'Especificação' foi clicado.\n",
      "Data Especificacao coletada\n"
     ]
    }
   ],
   "source": [
    "df_desempenho = []\n",
    "df_tecnica = []\n",
    "df_especificacao = []\n",
    "for i in range(0,len(lista_botoes)):\n",
    "    ### Clicar no botão\n",
    "    texto = lista_botoes[i]\n",
    "    ### Usa o WebDriverWait para aguardar que o botão fique visível e então clica\n",
    "    #botao = WebDriverWait(driver, 1).until(EC.element_to_be_clickable((By.XPATH, f\"//button[@data-test='quote-tab' and contains(text(), '{texto}')]\")))\n",
    "    botao = driver.find_element(By.XPATH, f\"//button[@data-test='quote-tab' and contains(text(), '{texto}')]\")\n",
    "    botao.click()\n",
    "    print(f\"Botão '{texto}' foi clicado.\")\n",
    "    ## Esperar um pouco para continuar, para dar tempo de atualizar\n",
    "    import time\n",
    "    time.sleep(3)\n",
    "\n",
    "    ## Acessa o novo html\n",
    "    novo_html = driver.page_source\n",
    "    ## Passando para o soup\n",
    "    soup = bs(novo_html,'html.parser')\n",
    "    ## Acessa a tabela de commodities (Desempenho)\n",
    "    tag_section2 = soup.find('table',{'class':'datatable-v2_table__93S4Y'})\n",
    "    \n",
    "    ## Acessa todas as linhas da tabela\n",
    "    items_table = tag_section2.find_all('tr',{'class':'datatable-v2_row__hkEus dynamic-table-v2_row__ILVMx'})\n",
    "    if i == 0: # Desempenho\n",
    "        commodities_data = []\n",
    "        for linha in items_table:\n",
    "            cells = linha.find_all('td', {'class':'datatable-v2_cell__IwP1U'})\n",
    "            if len(cells) > 1:\n",
    "                nome = cells[1].get_text(strip=True)\n",
    "                diario = cells[2].get_text(strip=True)\n",
    "                semana1 = cells[3].get_text(strip=True)\n",
    "                mes1 = cells[4].get_text(strip=True)\n",
    "                ytd = cells[5].get_text(strip=True)\n",
    "                ano1 = cells[6].get_text(strip=True)\n",
    "                ano3 = cells[7].get_text(strip=True)\n",
    "        \n",
    "                commodities_data.append({\n",
    "                    \"Nome\": nome,\n",
    "                    \"Desempenho Diario\": diario,\n",
    "                    \"Semana 1\": semana1,\n",
    "                    \"Mes 1\": mes1,\n",
    "                    \"YTD\": ytd,\n",
    "                    \"Ano 1\": ano1,\n",
    "                    \"Anos 3\": ano3\n",
    "                })\n",
    "        df_desempenho = pd.DataFrame(commodities_data)\n",
    "        print(\"Data Desempenho coletada\")\n",
    "        \n",
    "    elif i == 1: # Tecnica\n",
    "        commodities_data = []\n",
    "        for linha in items_table:\n",
    "            cells = linha.find_all('td', {'class':'datatable-v2_cell__IwP1U'})\n",
    "            if len(cells) > 1:\n",
    "                nome = cells[1].get_text(strip=True)\n",
    "                hora = cells[2].get_text(strip=True)\n",
    "                diario = cells[3].get_text(strip=True)\n",
    "                semanal = cells[4].get_text(strip=True)\n",
    "                mensal = cells[5].get_text(strip=True)\n",
    "        \n",
    "                commodities_data.append({\n",
    "                    \"Nome\": nome,\n",
    "                    \"Hora\": hora,\n",
    "                    \"Tecnica Diaria\": diario,\n",
    "                    \"Semanal\": semanal,\n",
    "                    \"Mensal\": mensal,\n",
    "                })\n",
    "        df_tecnica = pd.DataFrame(commodities_data)\n",
    "        print(\"Data Tecnica coletada\")\n",
    "    elif i == 2: # Especificacao\n",
    "        commodities_data = []\n",
    "        for linha in items_table:\n",
    "            cells = linha.find_all('td', {'class':'datatable-v2_cell__IwP1U'})\n",
    "            if len(cells) > 1:\n",
    "                nome = cells[1].get_text(strip=True)\n",
    "                codigo = cells[2].get_text(strip=True)\n",
    "                bolsa = cells[3].get_text(strip=True)\n",
    "                contrato = cells[4].get_text(strip=True)\n",
    "                meses = cells[5].get_text(strip=True)\n",
    "                ponto_base = cells[6].get_text(strip=True)\n",
    "        \n",
    "                commodities_data.append({\n",
    "                    \"Nome\": nome,\n",
    "                    \"Codigo\": codigo,\n",
    "                    \"Bolsa\": bolsa,\n",
    "                    \"Contrato\": contrato,\n",
    "                    \"Meses\": meses,\n",
    "                    \"PontoBase\":ponto_base\n",
    "                })\n",
    "        df_especificacao = pd.DataFrame(commodities_data)\n",
    "        print(\"Data Especificacao coletada\")\n",
    "driver.quit()"
   ]
  },
  {
   "cell_type": "markdown",
   "id": "edb51cbd-5d82-4e58-a916-3a2bf787e7d0",
   "metadata": {},
   "source": [
    "## Mesclar os dataframes com base na coluna nome"
   ]
  },
  {
   "cell_type": "code",
   "execution_count": 21,
   "id": "e18900ef-a1d1-4aa9-b503-ceff575833c0",
   "metadata": {},
   "outputs": [],
   "source": [
    "df_preco_desempenho = df_preco.merge(df_desempenho, on=\"Nome\", how=\"outer\")\n",
    "df_pd_tecnica = df_preco_desempenho.merge(df_tecnica, on=\"Nome\", how=\"outer\")\n",
    "df_final = df_pd_tecnica.merge(df_especificacao, on=\"Nome\", how=\"outer\")\n",
    "\n",
    "## Limpeza do nome\n",
    "df_final[\"Nome\"] = df_final[\"Nome\"].str.replace(\"derived\",\"\",regex=False)"
   ]
  },
  {
   "cell_type": "code",
   "execution_count": 22,
   "id": "33923800-b616-4554-8f2b-6d1166a28430",
   "metadata": {},
   "outputs": [],
   "source": [
    "# Adiciona o index\n",
    "df_final.reset_index(inplace=True)\n",
    "df_final.index +=1\n",
    "df_final.rename(columns={\"index\":\"ID\"}, inplace=True)\n"
   ]
  },
  {
   "cell_type": "markdown",
   "id": "c1770f07-1ea1-412e-bc52-5c7c7e55508f",
   "metadata": {},
   "source": [
    "## Transforma em tabela excel"
   ]
  },
  {
   "cell_type": "markdown",
   "id": "7c907929-ddc8-44b0-bd9f-aebc2581ad8c",
   "metadata": {},
   "source": [
    "### Transformando as tabelas para poder trabalhar com números"
   ]
  },
  {
   "cell_type": "code",
   "execution_count": 24,
   "id": "8c6a33aa-12b5-4fa8-99ad-ccb20914a907",
   "metadata": {},
   "outputs": [
    {
     "name": "stdout",
     "output_type": "stream",
     "text": [
      "Collecting openpyxl\n",
      "  Downloading openpyxl-3.1.5-py2.py3-none-any.whl.metadata (2.5 kB)\n",
      "Collecting et-xmlfile (from openpyxl)\n",
      "  Downloading et_xmlfile-2.0.0-py3-none-any.whl.metadata (2.7 kB)\n",
      "Downloading openpyxl-3.1.5-py2.py3-none-any.whl (250 kB)\n",
      "Downloading et_xmlfile-2.0.0-py3-none-any.whl (18 kB)\n",
      "Installing collected packages: et-xmlfile, openpyxl\n",
      "Successfully installed et-xmlfile-2.0.0 openpyxl-3.1.5\n"
     ]
    }
   ],
   "source": [
    "!pip install openpyxl\n"
   ]
  },
  {
   "cell_type": "code",
   "execution_count": 25,
   "id": "a9ffc10e-afee-41c1-a272-16d3b6f4f416",
   "metadata": {},
   "outputs": [
    {
     "name": "stdout",
     "output_type": "stream",
     "text": [
      "Dados extraidos e combinados, salvos em 'DataCommodities.xlsx'\n"
     ]
    }
   ],
   "source": [
    "df_final.to_excel(\"DataCommodities.xlsx\",index=False)\n",
    "print(\"Dados extraidos e combinados, salvos em 'DataCommodities.xlsx'\")"
   ]
  },
  {
   "cell_type": "markdown",
   "id": "919e19e2-dbf1-45a0-b190-2c46b48a7a5e",
   "metadata": {},
   "source": [
    "## Inicializa o arquivo Power Bi"
   ]
  },
  {
   "cell_type": "code",
   "execution_count": 26,
   "id": "b002ba94-175e-42b5-b888-b6fe024cfbba",
   "metadata": {},
   "outputs": [
    {
     "data": {
      "text/plain": [
       "<Popen: returncode: None args: ['start', './AnaliseCommodities.pbix']>"
      ]
     },
     "execution_count": 26,
     "metadata": {},
     "output_type": "execute_result"
    }
   ],
   "source": [
    "import subprocess\n",
    "path_power_bi = \"./AnaliseCommodities.pbix\"\n",
    "subprocess.Popen(['start',path_power_bi], shell=True)"
   ]
  }
 ],
 "metadata": {
  "kernelspec": {
   "display_name": "KernelWebScrapping",
   "language": "python",
   "name": "kernelwebscrapping"
  },
  "language_info": {
   "codemirror_mode": {
    "name": "ipython",
    "version": 3
   },
   "file_extension": ".py",
   "mimetype": "text/x-python",
   "name": "python",
   "nbconvert_exporter": "python",
   "pygments_lexer": "ipython3",
   "version": "3.13.1"
  }
 },
 "nbformat": 4,
 "nbformat_minor": 5
}
